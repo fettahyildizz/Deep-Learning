{
  "nbformat": 4,
  "nbformat_minor": 0,
  "metadata": {
    "kernelspec": {
      "display_name": "Python 3",
      "language": "python",
      "name": "python3"
    },
    "language_info": {
      "codemirror_mode": {
        "name": "ipython",
        "version": 3
      },
      "file_extension": ".py",
      "mimetype": "text/x-python",
      "name": "python",
      "nbconvert_exporter": "python",
      "pygments_lexer": "ipython3",
      "version": "3.5.1"
    },
    "colab": {
      "name": "02-Logistic Regression Project.ipynb",
      "provenance": [],
      "include_colab_link": true
    }
  },
  "cells": [
    {
      "cell_type": "markdown",
      "metadata": {
        "id": "view-in-github",
        "colab_type": "text"
      },
      "source": [
        "<a href=\"https://colab.research.google.com/github/fettahyildizz/Deep-Learning/blob/main/Logistic%20Regression/Logistic%20Regression%20Project.ipynb\" target=\"_parent\"><img src=\"https://colab.research.google.com/assets/colab-badge.svg\" alt=\"Open In Colab\"/></a>"
      ]
    },
    {
      "cell_type": "code",
      "metadata": {
        "collapsed": true,
        "id": "b7hA7CLl2D0Q"
      },
      "source": [
        "import numpy as np\n",
        "import pandas as pd\n",
        "import seaborn as sns\n",
        "import matplotlib.pyplot as plt\n",
        "import tensorflow as tf\n",
        "from tensorflow import keras\n",
        "from tensorflow.keras.layers import Dense\n",
        "from tensorflow.keras.optimizers import Adam"
      ],
      "execution_count": null,
      "outputs": []
    },
    {
      "cell_type": "code",
      "metadata": {
        "id": "6Y8cwfg_2D0R"
      },
      "source": [
        "ad_data = pd.read_csv('advertising.csv')"
      ],
      "execution_count": null,
      "outputs": []
    },
    {
      "cell_type": "code",
      "metadata": {
        "id": "s8y_nJ-m2D0S"
      },
      "source": [
        "ad_data.info()"
      ],
      "execution_count": null,
      "outputs": []
    },
    {
      "cell_type": "code",
      "metadata": {
        "id": "mJX3Uc4C2D0V"
      },
      "source": [
        "sns.pairplot(data = ad_data,hue='Clicked on Ad')"
      ],
      "execution_count": null,
      "outputs": []
    },
    {
      "cell_type": "code",
      "metadata": {
        "id": "DXoLO3JSGEpc"
      },
      "source": [
        "ad_data.corr()"
      ],
      "execution_count": null,
      "outputs": []
    },
    {
      "cell_type": "code",
      "metadata": {
        "collapsed": true,
        "id": "_sBkdWiE2D0V"
      },
      "source": [
        "train_dataset = ad_data.sample(frac = 0.8)\n",
        "test_dataset = ad_data.drop(train_dataset.index)\n",
        "\n",
        "train_label = train_dataset['Clicked on Ad']\n",
        "test_label = test_dataset['Clicked on Ad']\n",
        "\n",
        "train_dataset.drop(['Ad Topic Line','City','Country','Timestamp','Clicked on Ad'], axis = 1, inplace=True )\n",
        "test_dataset.drop(['Ad Topic Line','City','Country','Timestamp','Clicked on Ad'], axis = 1, inplace=True )\n",
        "\n",
        "\n"
      ],
      "execution_count": null,
      "outputs": []
    },
    {
      "cell_type": "code",
      "metadata": {
        "collapsed": true,
        "id": "4TS4qQuD2D0W"
      },
      "source": [
        "normalizer = keras.layers.experimental.preprocessing.Normalization()\n",
        "normalizer.adapt(np.array(train_dataset))\n",
        "\n",
        "train_label = keras.utils.to_categorical(train_label)\n",
        "test_label = keras.utils.to_categorical(test_label)\n"
      ],
      "execution_count": null,
      "outputs": []
    },
    {
      "cell_type": "code",
      "metadata": {
        "collapsed": true,
        "id": "J2QAzPGT2D0W"
      },
      "source": [
        "model = keras.models.Sequential([\n",
        "                                 normalizer,\n",
        "                                 Dense(32,activation='relu'),\n",
        "                                 \n",
        "                                 Dense(2,activation = 'softmax')\n",
        "])\n",
        "\n",
        "model.compile(optimizer=Adam(0.001),\n",
        "              loss='binary_crossentropy',\n",
        "              metrics=['accuracy'])"
      ],
      "execution_count": null,
      "outputs": []
    },
    {
      "cell_type": "code",
      "metadata": {
        "id": "c6-ZFxX3CXmh"
      },
      "source": [
        "model.fit(train_dataset,train_label,epochs=150,validation_split=0.15)"
      ],
      "execution_count": null,
      "outputs": []
    },
    {
      "cell_type": "code",
      "metadata": {
        "id": "sU1e0uvg2D0W"
      },
      "source": [
        "model.evaluate(test_dataset,test_label)"
      ],
      "execution_count": null,
      "outputs": []
    }
  ]
}