{
  "nbformat": 4,
  "nbformat_minor": 0,
  "metadata": {
    "colab": {
      "name": "fashion_mnist.ipynb",
      "provenance": [],
      "mount_file_id": "1cHs9Ktuys97Eckd33t4Dk3-PySMaplEW",
      "authorship_tag": "ABX9TyNjC6l8++lb3DyMJWOLcHfe",
      "include_colab_link": true
    },
    "kernelspec": {
      "name": "python3",
      "display_name": "Python 3"
    }
  },
  "cells": [
    {
      "cell_type": "markdown",
      "metadata": {
        "id": "view-in-github",
        "colab_type": "text"
      },
      "source": [
        "<a href=\"https://colab.research.google.com/github/fettahyildizz/Deep-Learning/blob/main/Fashion%20MNIST%20Database%20Classification/fashion_mnist.ipynb\" target=\"_parent\"><img src=\"https://colab.research.google.com/assets/colab-badge.svg\" alt=\"Open In Colab\"/></a>"
      ]
    },
    {
      "cell_type": "code",
      "metadata": {
        "id": "QaXO06YMGiPs"
      },
      "source": [
        "from __future__ import print_function\n",
        "import keras\n",
        "from keras.datasets import fashion_mnist\n",
        "from keras.models import Sequential\n",
        "from keras.layers import Dense, Dropout, Activation, Flatten\n",
        "from keras.layers import Conv2D, MaxPooling2D\n",
        "from keras.optimizers import Adam\n",
        "from keras.regularizers import l2\n",
        "import os"
      ],
      "execution_count": null,
      "outputs": []
    },
    {
      "cell_type": "code",
      "metadata": {
        "colab": {
          "base_uri": "https://localhost:8080/"
        },
        "id": "xzubVYgPG_k9",
        "outputId": "e6233229-d80c-490e-8a6a-fa91243c1e65"
      },
      "source": [
        "(x_train, y_train), (x_test, y_test) = fashion_mnist.load_data()\n",
        "x_train = keras.utils.normalize(x_train, axis=1)\n",
        "x_test = keras.utils.normalize(x_test, axis=1)\n",
        "im_shape = (28,28,1)\n",
        "\n",
        "x_train = x_train.reshape(x_train.shape[0], *im_shape)\n",
        "x_test = x_test.reshape(x_test.shape[0], *im_shape)\n",
        "\n"
      ],
      "execution_count": null,
      "outputs": [
        {
          "output_type": "stream",
          "text": [
            "x_train shape: (10000, 28, 28, 1)\n"
          ],
          "name": "stdout"
        }
      ]
    },
    {
      "cell_type": "code",
      "metadata": {
        "id": "cfuNazW4HXOh"
      },
      "source": [
        "model = Sequential([Conv2D(filters = 32, kernel_size = 3, activation = 'relu',\n",
        "                           input_shape = im_shape),\n",
        "                    MaxPooling2D(pool_size = 2),\n",
        "                    Dropout(0.2),\n",
        "\n",
        "                    Flatten(),\n",
        "                    \n",
        "                    Dense(32, activation='relu'),\n",
        "                    Dense(10, activation='softmax')\n",
        "                \n",
        "])\n",
        "\n",
        "\n",
        "\n",
        "model.compile(optimizer= Adam(lr=0.001),              \n",
        "              loss= 'sparse_categorical_crossentropy',\n",
        "              metrics= ['accuracy'])\n",
        "\n",
        "model.fit(x_train, y_train,\n",
        "              batch_size=32,\n",
        "              epochs=20,\n",
        "              validation_split = 0.1,\n",
        "              shuffle=True,\n",
        "          )"
      ],
      "execution_count": null,
      "outputs": []
    },
    {
      "cell_type": "code",
      "metadata": {
        "id": "UNrsQ37WI9db"
      },
      "source": [
        "scores = model.evaluate(x_test, y_test, verbose=1)\n",
        "print('Test loss:', scores[0])\n",
        "print('Test accuracy:', scores[1])\n",
        "model.summary()\n"
      ],
      "execution_count": null,
      "outputs": []
    },
    {
      "cell_type": "code",
      "metadata": {
        "colab": {
          "base_uri": "https://localhost:8080/"
        },
        "id": "P3h7JqD8L8RW",
        "outputId": "61bf9b6b-d32c-40cf-ac2e-b11fc033ad20"
      },
      "source": [
        "model.save('fashion_mnist.model')\n"
      ],
      "execution_count": null,
      "outputs": [
        {
          "output_type": "stream",
          "text": [
            "INFO:tensorflow:Assets written to: fashion_mnist.model/assets\n"
          ],
          "name": "stdout"
        }
      ]
    }
  ]
}